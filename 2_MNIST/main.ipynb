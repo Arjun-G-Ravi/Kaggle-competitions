{
 "cells": [
  {
   "cell_type": "code",
   "execution_count": null,
   "metadata": {},
   "outputs": [],
   "source": [
    "import numpy as np\n",
    "import pandas as pd\n",
    "import torch\n",
    "import matplotlib.pyplot as plt\n",
    "import torch.nn as nn\n",
    "import cv2\n",
    "from torch.utils.data import Dataset, DataLoader\n",
    "from sklearn.model_selection import train_test_split\n",
    "import torch.nn.functional as F\n",
    "from tqdm.notebook import trange"
   ]
  },
  {
   "cell_type": "code",
   "execution_count": null,
   "metadata": {},
   "outputs": [],
   "source": [
    "train_data = pd.read_csv('train.csv')\n",
    "train_data"
   ]
  },
  {
   "cell_type": "code",
   "execution_count": null,
   "metadata": {},
   "outputs": [],
   "source": [
    "X = train_data.drop('label', axis=1).values.reshape(-1,28,28)\n",
    "y = train_data.label.values\n",
    "X_train, X_test, y_train, y_test = train_test_split(X, y)"
   ]
  },
  {
   "cell_type": "code",
   "execution_count": null,
   "metadata": {},
   "outputs": [],
   "source": [
    "len(X_train), len(X_test)"
   ]
  },
  {
   "cell_type": "code",
   "execution_count": null,
   "metadata": {},
   "outputs": [],
   "source": [
    "to_plot = X[:30]\n",
    "fig = plt.figure(figsize=(20,5))\n",
    "for i,val in enumerate(to_plot):\n",
    "    ax = fig.add_subplot(3,10,i+1)\n",
    "    ax.imshow(val)"
   ]
  },
  {
   "cell_type": "code",
   "execution_count": null,
   "metadata": {},
   "outputs": [],
   "source": [
    "device = 'cuda' if torch.cuda.is_available() else 'cpu'\n",
    "device"
   ]
  },
  {
   "cell_type": "code",
   "execution_count": null,
   "metadata": {},
   "outputs": [],
   "source": [
    "class MLP(nn.Module):\n",
    "    def __init__(self, inp, h1, out):\n",
    "        super(MLP, self).__init__()\n",
    "        self.l1 = nn.Linear(inp, h1)\n",
    "        self.l2 = nn.ReLU()\n",
    "        self.l3 = nn.Linear(h1, out)\n",
    "    def forward(self, x):\n",
    "        out = self.l1(x)\n",
    "        out = self.l2(out)\n",
    "        out = self.l3(out)\n",
    "        return out\n",
    "\n",
    "model = MLP(28*28, 100, 10).to(device)"
   ]
  },
  {
   "cell_type": "code",
   "execution_count": null,
   "metadata": {},
   "outputs": [],
   "source": [
    "loss_category = nn.CrossEntropyLoss()\n",
    "optimiser = torch.optim.Adam(model.parameters(), lr=0.00001)\n",
    "bs = 50000\n",
    "epochs = 1500"
   ]
  },
  {
   "cell_type": "code",
   "execution_count": null,
   "metadata": {},
   "outputs": [],
   "source": [
    "class MNIST(Dataset):\n",
    "    def __init__(self, x_, y_):\n",
    "        self.X = x_\n",
    "        self.y = y_\n",
    "    \n",
    "    def __len__(self):\n",
    "        return self.X.shape[0]\n",
    "    \n",
    "    def __getitem__(self, index):\n",
    "        return self.X[index], self.y[index]\n",
    "\n",
    "train_dataset = MNIST(X_train, y_train)\n",
    "test_dataset = MNIST(X_test, y_test)\n",
    "\n",
    "train_dataloader = DataLoader(dataset=train_dataset, batch_size=bs, shuffle=True)\n",
    "test_dataloader = DataLoader(dataset=test_dataset, batch_size=bs, shuffle=False)\n",
    "len(train_dataset), len(test_dataset)"
   ]
  },
  {
   "cell_type": "code",
   "execution_count": null,
   "metadata": {},
   "outputs": [],
   "source": [
    "for epoch in trange(epochs):\n",
    "    for x_,y_ in train_dataloader:\n",
    "        x_ = x_.float().to(device).view(-1, 28*28)\n",
    "        y_ = y_.int().to(device)\n",
    "\n",
    "        # forward pass\n",
    "        y_pred = model(x_)\n",
    "        y_ = F.one_hot(y_.clone().detach().long(), 10).float()\n",
    "\n",
    "        # calc loss\n",
    "        loss = loss_category(y_pred, y_)\n",
    "\n",
    "        # backprop\n",
    "        loss.backward()\n",
    "        optimiser.step()\n",
    "        optimiser.zero_grad()\n",
    "    if (epoch+1)%10 == 0: print(f'Epoch {epoch}: {loss.item():2f}')\n"
   ]
  },
  {
   "cell_type": "code",
   "execution_count": null,
   "metadata": {},
   "outputs": [],
   "source": [
    "with torch.no_grad():\n",
    "    score = 0\n",
    "    ct = 0\n",
    "    for x_,y_ in train_dataloader:\n",
    "        x_ = x_.float().to(device).view(-1, 28*28)\n",
    "        y_ = y_.int().to(device)\n",
    "\n",
    "        y_pred = model(x_)\n",
    "        for i,j in zip(y_, torch.argmax(y_pred, dim=1)):\n",
    "            score += i.item() == j.item()\n",
    "            ct += 1\n",
    "    print(f'Train Accuracy {score*100/ ct} %')\n"
   ]
  },
  {
   "cell_type": "code",
   "execution_count": null,
   "metadata": {},
   "outputs": [],
   "source": [
    "with torch.no_grad():\n",
    "    score = 0\n",
    "    ct = 0\n",
    "    for x_,y_ in test_dataloader:\n",
    "        x_ = x_.float().to(device).view(-1, 28*28)\n",
    "        y_ = y_.int().to(device)\n",
    "\n",
    "        y_pred = model(x_)\n",
    "        for i,j in zip(y_, torch.argmax(y_pred, dim=1)):\n",
    "            score += i.item() == j.item()\n",
    "            ct += 1\n",
    "    print(f'Test Accuracy {score*100/ ct} %')"
   ]
  }
 ],
 "metadata": {
  "kernelspec": {
   "display_name": "AI_ENV",
   "language": "python",
   "name": "python3"
  },
  "language_info": {
   "codemirror_mode": {
    "name": "ipython",
    "version": 3
   },
   "file_extension": ".py",
   "mimetype": "text/x-python",
   "name": "python",
   "nbconvert_exporter": "python",
   "pygments_lexer": "ipython3",
   "version": "3.10.12"
  }
 },
 "nbformat": 4,
 "nbformat_minor": 2
}
